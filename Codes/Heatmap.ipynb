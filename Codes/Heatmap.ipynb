{
 "cells": [
  {
   "cell_type": "code",
   "execution_count": null,
   "metadata": {},
   "outputs": [],
   "source": [
    "import pandas as pd\n",
    "import seaborn as sns\n",
    "import matplotlib.pyplot as plt\n",
    "from matplotlib.colors import LinearSegmentedColormap\n",
    "from scipy.stats import zscore\n",
    "\n",
    "# File path\n",
    "file_path = r\"E:\\Correct_Data_Official\\Official_Images\\Official_Heatmap.xlsx\"\n",
    "\n",
    "# Reading data from the Excel file\n",
    "df = pd.read_excel(file_path, index_col=0)\n",
    "\n",
    "# Standardizing the data (Z-score)\n",
    "df_standardized = df.apply(zscore, axis=1)\n",
    "\n",
    "# Creating a custom color palette with specific colors\n",
    "colors = [\n",
    "    (0, '#003171'),   # Dark blue for the lowest values\n",
    "    (0.3, '#6da0f2'), # Medium blue for moderate negative values\n",
    "    (0.45, '#b3d1ff'), # Light blue for weak negative values\n",
    "    (0.5, 'white'),    # White exactly at zero\n",
    "    (0.55, '#f5b0b8'), # Light pink for weak positive values\n",
    "    (0.7, '#a30523'),  # Medium red for moderate positive values\n",
    "    (1, '#7a041a')     # Dark red for the highest values\n",
    "]\n",
    "cmap = LinearSegmentedColormap.from_list(\"Custom\", colors)\n",
    "\n",
    "# Seaborn configuration\n",
    "sns.set_theme()\n",
    "\n",
    "# Creating the heatmap\n",
    "plt.figure(figsize=(8, 13))  # Adjust size as needed\n",
    "ax = sns.heatmap(df_standardized, vmin=-2.5, vmax=2.5, cmap=cmap, cbar=True, xticklabels=True, yticklabels=True)\n",
    "\n",
    "# Adjusting X and Y axis labels with larger font\n",
    "ax.set_yticklabels(ax.get_yticklabels(), rotation=0, fontsize=14)  # Increasing font size for Y axis\n",
    "ax.set_xticklabels(ax.get_xticklabels(), rotation=90, fontsize=14)  # Increasing font size for X axis\n",
    "\n",
    "# Setting a custom label for the Y axis\n",
    "ax.set_ylabel(\"\", fontsize=14)  # Larger font for Y axis label\n",
    "\n",
    "# Paths to save the image\n",
    "save_path_tiff = r\"E:\\Correct_Data_Official\\Official_Images\\heatmap_300dpi.tiff\"\n",
    "save_path_png = r\"E:\\Correct_Data_Official\\Official_Images\\heatmap_300dpi.png\"\n",
    "\n",
    "# Saving the images with 300 DPI in both formats\n",
    "plt.savefig(save_path_tiff, dpi=300, bbox_inches=\"tight\", format='tiff')\n",
    "plt.savefig(save_path_png, dpi=300, bbox_inches=\"tight\", format='png')\n",
    "\n",
    "# Displaying the figure\n",
    "plt.show()\n"
   ]
  }
 ],
 "metadata": {
  "kernelspec": {
   "display_name": "Python (myenv)",
   "language": "python",
   "name": "myenv"
  },
  "language_info": {
   "codemirror_mode": {
    "name": "ipython",
    "version": 3
   },
   "file_extension": ".py",
   "mimetype": "text/x-python",
   "name": "python",
   "nbconvert_exporter": "python",
   "pygments_lexer": "ipython3",
   "version": "3.8.19"
  }
 },
 "nbformat": 4,
 "nbformat_minor": 2
}
