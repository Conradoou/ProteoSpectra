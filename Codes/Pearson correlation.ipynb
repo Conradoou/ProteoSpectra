{
 "cells": [
  {
   "cell_type": "code",
   "execution_count": null,
   "metadata": {},
   "outputs": [],
   "source": [
    "import pandas as pd\n",
    "import seaborn as sns\n",
    "import matplotlib.pyplot as plt\n",
    "from scipy.stats import pearsonr\n",
    "\n",
    "# Caminho do arquivo Excel\n",
    "file_path = r'E:\\Dados corretos_Oficail\\Imagens_Oficial\\correlacao_oficial.xlsx'\n",
    "\n",
    "# Carregar os dados do arquivo Excel\n",
    "df = pd.read_excel(file_path)\n",
    "\n",
    "# Remover linhas com NaN ou Inf\n",
    "df = df.replace([float('inf'), float('-inf')], pd.NA)  # Substitui Inf e -Inf por NaN\n",
    "df = df.dropna()  # Remove qualquer linha com NaN\n",
    "\n",
    "# Definindo as colunas de N2 e CL2006\n",
    "n2_columns = ['CTRL_R01', 'CTRL_R02', 'CTRL_R03']\n",
    "cl2006_columns = ['TRT_R01', 'TRT_R02', 'TRT_R03']\n",
    "\n",
    "# Criando um DataFrame vazio para armazenar as correlações\n",
    "correlation_matrix = pd.DataFrame(index=n2_columns + cl2006_columns, columns=n2_columns + cl2006_columns)\n",
    "\n",
    "# Calculando as correlações de Pearson e preenchendo a matriz\n",
    "for n2_col in n2_columns + cl2006_columns:\n",
    "    for cl2006_col in n2_columns + cl2006_columns:\n",
    "        corr, _ = pearsonr(df[n2_col], df[cl2006_col])\n",
    "        correlation_matrix.loc[n2_col, cl2006_col] = corr\n",
    "\n",
    "# Exibindo a matriz de correlação com duas casas decimais e nova escala de cores\n",
    "plt.figure(figsize=(10, 8))\n",
    "\n",
    "# Usando uma paleta de cores que vai de laranja a azul\n",
    "sns.heatmap(correlation_matrix.astype(float), annot=True, cmap='YlOrRd', fmt='.2f', linewidths=0.5)\n",
    "\n",
    "# Salvando a imagem nos formatos TIFF e PNG com 300 dpi\n",
    "plt.savefig(r'E:\\Dados corretos_Oficail\\Imagens_Oficial\\correlation_matrix.tiff', dpi=300)\n",
    "plt.savefig(r'E:\\Dados corretos_Oficail\\Imagens_Oficial\\correlation_matrix.png', dpi=300)\n",
    "\n",
    "# Salvando a tabela de correlação como uma planilha Excel\n",
    "correlation_matrix.to_excel(r'E:\\Dados corretos_Oficail\\Imagens_Oficial\\correlation_matrix.xlsx')\n",
    "\n",
    "# Exibindo a imagem\n",
    "plt.title('')\n",
    "plt.show()"
   ]
  }
 ],
 "metadata": {
  "kernelspec": {
   "display_name": "Python (myenv)",
   "language": "python",
   "name": "myenv"
  },
  "language_info": {
   "codemirror_mode": {
    "name": "ipython",
    "version": 3
   },
   "file_extension": ".py",
   "mimetype": "text/x-python",
   "name": "python",
   "nbconvert_exporter": "python",
   "pygments_lexer": "ipython3",
   "version": "3.8.19"
  }
 },
 "nbformat": 4,
 "nbformat_minor": 2
}
